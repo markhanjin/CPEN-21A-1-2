{
  "nbformat": 4,
  "nbformat_minor": 0,
  "metadata": {
    "colab": {
      "name": "Demo",
      "provenance": [],
      "authorship_tag": "ABX9TyOcT+WPVeNxqyC3H4WprYFP",
      "include_colab_link": true
    },
    "kernelspec": {
      "name": "python3",
      "display_name": "Python 3"
    },
    "language_info": {
      "name": "python"
    }
  },
  "cells": [
    {
      "cell_type": "markdown",
      "metadata": {
        "id": "view-in-github",
        "colab_type": "text"
      },
      "source": [
        "<a href=\"https://colab.research.google.com/github/markhanjin/CPEN-21A-1-2/blob/main/Demo.ipynb\" target=\"_parent\"><img src=\"https://colab.research.google.com/assets/colab-badge.svg\" alt=\"Open In Colab\"/></a>"
      ]
    },
    {
      "cell_type": "code",
      "metadata": {
        "colab": {
          "base_uri": "https://localhost:8080/"
        },
        "id": "J7u1r9zkF4kI",
        "outputId": "651deb17-45d5-4c07-d494-f7fa3358f90e"
      },
      "source": [
        "if 7>2:\n",
        "  print(\"seven is greater than two\")"
      ],
      "execution_count": 7,
      "outputs": [
        {
          "output_type": "stream",
          "name": "stdout",
          "text": [
            "seven is greater than two\n"
          ]
        }
      ]
    },
    {
      "cell_type": "code",
      "metadata": {
        "colab": {
          "base_uri": "https://localhost:8080/"
        },
        "id": "iACZYKMvGeWO",
        "outputId": "cefd039a-9939-4ea8-8019-4846a8c75920"
      },
      "source": [
        "x = 5 #this is the number of dogs \n",
        "print(\"Hello World\") "
      ],
      "execution_count": 8,
      "outputs": [
        {
          "output_type": "stream",
          "name": "stdout",
          "text": [
            "Hello World\n"
          ]
        }
      ]
    },
    {
      "cell_type": "code",
      "metadata": {
        "colab": {
          "base_uri": "https://localhost:8080/"
        },
        "id": "YEhdVjhxIZGg",
        "outputId": "cc4b58a4-9554-49fc-894e-a319f2dee43a"
      },
      "source": [
        "myvar = \"Hanjin\"\n",
        "print(myvar)\n"
      ],
      "execution_count": 14,
      "outputs": [
        {
          "output_type": "stream",
          "name": "stdout",
          "text": [
            "Hanjin\n"
          ]
        }
      ]
    }
  ]
}